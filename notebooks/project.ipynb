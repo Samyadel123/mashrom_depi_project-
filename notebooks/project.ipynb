{
 "cells": [
  {
   "cell_type": "code",
   "execution_count": null,
   "id": "b74b6bbb",
   "metadata": {},
   "outputs": [],
   "source": [
    "import pandas as pd \n",
    "import os \n",
    "import numpy as np \n",
    "import seaborn as sns\n",
    "from sklearn.model_selection import train_test_split\n",
    "from sklearn.preprocessing import StandardScaler, OneHotEncoder\n",
    "from sklearn.feature_selection import f_classif\n",
    "from sklearn.feature_selection import mutual_info_classif\n",
    "from sklearn.feature_selection import chi2\n",
    "from sklearn.feature_selection import SelectKBest\n",
    "from sklearn.pipeline import Pipeline"
   ]
  },
  {
   "cell_type": "code",
   "execution_count": 2,
   "id": "14e46ee2",
   "metadata": {},
   "outputs": [],
   "source": [
    "from ucimlrepo import fetch_ucirepo\n",
    "\n",
    "\n",
    "def load_data():\n",
    "    \"\"\"Load the secondary mushroom dataset.\n",
    "\n",
    "    Returns\n",
    "    -------\n",
    "    X : pandas.DataFrame\n",
    "        Features.\n",
    "    y : pandas.Series\n",
    "        Target.\n",
    "    \"\"\"\n",
    "    # fetch dataset\n",
    "    secondary_mushroom = fetch_ucirepo(id=848)\n",
    "\n",
    "    # data (as pandas dataframes)\n",
    "    X = secondary_mushroom.data.features\n",
    "    y = secondary_mushroom.data.targets  # Convert to Series if single column\n",
    "\n",
    "    return X, y\n"
   ]
  },
  {
   "cell_type": "code",
   "execution_count": 3,
   "id": "95c3a22f",
   "metadata": {},
   "outputs": [
    {
     "data": {
      "text/plain": [
       "(61069, 20)"
      ]
     },
     "execution_count": 3,
     "metadata": {},
     "output_type": "execute_result"
    }
   ],
   "source": [
    "X , y = load_data() \n",
    "X.shape"
   ]
  },
  {
   "cell_type": "markdown",
   "id": "c3177650",
   "metadata": {},
   "source": [
    "# plane \n",
    "- how would i approach this project? \n",
    "- i will start by making a split to the data (traing, validation, test)\n",
    "- then i will explore the train data \n",
    "- make a pipline of all the preprocessing steps \n",
    "- and based on my analysis i will choose the best features and the best model\n",
    "- i will use mlflow to track my experiments\n",
    "- i will make a api on my model using fastapi\n",
    "- i will dockerize my api\n",
    "- i will make a ci/cd pipeline using github actions"
   ]
  },
  {
   "cell_type": "code",
   "execution_count": 4,
   "id": "3820a01e",
   "metadata": {},
   "outputs": [
    {
     "name": "stdout",
     "output_type": "stream",
     "text": [
      "X_train shape: (36641, 20), y_train shape: (36641, 1)\n",
      "X_val shape: (12214, 20), y_val shape: (12214, 1)\n",
      "X_test shape: (12214, 20), y_test shape: (12214, 1)\n"
     ]
    }
   ],
   "source": [
    "# step 1: split the data into training ,validation and testing sets\n",
    "# 60% training , 20% validation and 20% testing\n",
    "X_temp, X_test, y_temp, y_test = train_test_split(X, y, test_size=0.2, \n",
    "                                                  random_state=42, stratify=y)\n",
    "X_train, X_val, y_train, y_val = train_test_split(X_temp, y_temp, test_size=0.25,\n",
    "                                                   random_state=42, stratify=y_temp) # 0.25 x 0.8 = 0.2\n",
    "print(f\"X_train shape: {X_train.shape}, y_train shape: {y_train.shape}\")\n",
    "print(f\"X_val shape: {X_val.shape}, y_val shape: {y_val.shape}\")\n",
    "print(f\"X_test shape: {X_test.shape}, y_test shape: {y_test.shape}\")\n"
   ]
  },
  {
   "cell_type": "markdown",
   "id": "eff997f0",
   "metadata": {},
   "source": [
    "now we log this data to start working on it"
   ]
  },
  {
   "cell_type": "code",
   "execution_count": 6,
   "id": "539530b0",
   "metadata": {},
   "outputs": [],
   "source": [
    "X_train.to_csv('../data/preprocessed/X_train.csv', index=False)\n",
    "y_train.to_csv('../data/preprocessed/y_train.csv', index=False)\n",
    "X_val.to_csv('../data/preprocessed/X_val.csv', index=False)\n",
    "y_val.to_csv('../data/preprocessed/y_val.csv', index=False)\n",
    "X_test.to_csv('../data/preprocessed/X_test.csv', index=False)\n",
    "y_test.to_csv('../data/preprocessed/y_test.csv', index=False)"
   ]
  },
  {
   "cell_type": "markdown",
   "id": "dfec5a4e",
   "metadata": {},
   "source": [
    "# phase 1 : data exploration and preprocessing"
   ]
  },
  {
   "cell_type": "code",
   "execution_count": 3,
   "id": "b2acd536",
   "metadata": {},
   "outputs": [],
   "source": [
    "X_train = pd.read_csv(\"../data/preprocessed/X_train.csv\")\n",
    "y_train = pd.read_csv(\"../data/preprocessed/y_train.csv\")"
   ]
  },
  {
   "cell_type": "code",
   "execution_count": 4,
   "id": "65202740",
   "metadata": {},
   "outputs": [
    {
     "data": {
      "application/vnd.microsoft.datawrangler.viewer.v0+json": {
       "columns": [
        {
         "name": "index",
         "rawType": "int64",
         "type": "integer"
        },
        {
         "name": "cap-diameter",
         "rawType": "float64",
         "type": "float"
        },
        {
         "name": "cap-shape",
         "rawType": "object",
         "type": "string"
        },
        {
         "name": "cap-surface",
         "rawType": "object",
         "type": "unknown"
        },
        {
         "name": "cap-color",
         "rawType": "object",
         "type": "string"
        },
        {
         "name": "does-bruise-or-bleed",
         "rawType": "object",
         "type": "string"
        },
        {
         "name": "gill-attachment",
         "rawType": "object",
         "type": "unknown"
        },
        {
         "name": "gill-spacing",
         "rawType": "object",
         "type": "unknown"
        },
        {
         "name": "gill-color",
         "rawType": "object",
         "type": "string"
        },
        {
         "name": "stem-height",
         "rawType": "float64",
         "type": "float"
        },
        {
         "name": "stem-width",
         "rawType": "float64",
         "type": "float"
        },
        {
         "name": "stem-root",
         "rawType": "object",
         "type": "unknown"
        },
        {
         "name": "stem-surface",
         "rawType": "object",
         "type": "unknown"
        },
        {
         "name": "stem-color",
         "rawType": "object",
         "type": "string"
        },
        {
         "name": "veil-type",
         "rawType": "object",
         "type": "unknown"
        },
        {
         "name": "veil-color",
         "rawType": "object",
         "type": "unknown"
        },
        {
         "name": "has-ring",
         "rawType": "object",
         "type": "string"
        },
        {
         "name": "ring-type",
         "rawType": "object",
         "type": "string"
        },
        {
         "name": "spore-print-color",
         "rawType": "object",
         "type": "unknown"
        },
        {
         "name": "habitat",
         "rawType": "object",
         "type": "string"
        },
        {
         "name": "season",
         "rawType": "object",
         "type": "string"
        }
       ],
       "ref": "2c2b492f-9c49-434d-9622-22d028dad23b",
       "rows": [
        [
         "0",
         "6.52",
         "x",
         "i",
         "n",
         "f",
         "e",
         "c",
         "p",
         "4.43",
         "12.75",
         null,
         null,
         "w",
         null,
         null,
         "t",
         "l",
         null,
         "w",
         "u"
        ],
        [
         "1",
         "8.02",
         "x",
         "d",
         "n",
         "t",
         "p",
         null,
         "y",
         "7.03",
         "15.75",
         null,
         null,
         "y",
         null,
         null,
         "f",
         "f",
         null,
         "d",
         "u"
        ],
        [
         "2",
         "12.99",
         "f",
         null,
         "n",
         "t",
         null,
         null,
         "w",
         "12.03",
         "18.19",
         "b",
         null,
         "w",
         "u",
         "w",
         "t",
         "g",
         null,
         "d",
         "u"
        ],
        [
         "3",
         "9.0",
         "x",
         "e",
         "o",
         "f",
         "a",
         null,
         "o",
         "10.32",
         "17.98",
         "r",
         null,
         "o",
         null,
         null,
         "t",
         "r",
         "n",
         "d",
         "a"
        ],
        [
         "4",
         "11.46",
         "f",
         null,
         "l",
         "f",
         "s",
         "c",
         "u",
         "8.45",
         "21.54",
         null,
         null,
         "u",
         null,
         null,
         "f",
         "f",
         null,
         "l",
         "w"
        ]
       ],
       "shape": {
        "columns": 20,
        "rows": 5
       }
      },
      "text/html": [
       "<div>\n",
       "<style scoped>\n",
       "    .dataframe tbody tr th:only-of-type {\n",
       "        vertical-align: middle;\n",
       "    }\n",
       "\n",
       "    .dataframe tbody tr th {\n",
       "        vertical-align: top;\n",
       "    }\n",
       "\n",
       "    .dataframe thead th {\n",
       "        text-align: right;\n",
       "    }\n",
       "</style>\n",
       "<table border=\"1\" class=\"dataframe\">\n",
       "  <thead>\n",
       "    <tr style=\"text-align: right;\">\n",
       "      <th></th>\n",
       "      <th>cap-diameter</th>\n",
       "      <th>cap-shape</th>\n",
       "      <th>cap-surface</th>\n",
       "      <th>cap-color</th>\n",
       "      <th>does-bruise-or-bleed</th>\n",
       "      <th>gill-attachment</th>\n",
       "      <th>gill-spacing</th>\n",
       "      <th>gill-color</th>\n",
       "      <th>stem-height</th>\n",
       "      <th>stem-width</th>\n",
       "      <th>stem-root</th>\n",
       "      <th>stem-surface</th>\n",
       "      <th>stem-color</th>\n",
       "      <th>veil-type</th>\n",
       "      <th>veil-color</th>\n",
       "      <th>has-ring</th>\n",
       "      <th>ring-type</th>\n",
       "      <th>spore-print-color</th>\n",
       "      <th>habitat</th>\n",
       "      <th>season</th>\n",
       "    </tr>\n",
       "  </thead>\n",
       "  <tbody>\n",
       "    <tr>\n",
       "      <th>0</th>\n",
       "      <td>6.52</td>\n",
       "      <td>x</td>\n",
       "      <td>i</td>\n",
       "      <td>n</td>\n",
       "      <td>f</td>\n",
       "      <td>e</td>\n",
       "      <td>c</td>\n",
       "      <td>p</td>\n",
       "      <td>4.43</td>\n",
       "      <td>12.75</td>\n",
       "      <td>NaN</td>\n",
       "      <td>NaN</td>\n",
       "      <td>w</td>\n",
       "      <td>NaN</td>\n",
       "      <td>NaN</td>\n",
       "      <td>t</td>\n",
       "      <td>l</td>\n",
       "      <td>NaN</td>\n",
       "      <td>w</td>\n",
       "      <td>u</td>\n",
       "    </tr>\n",
       "    <tr>\n",
       "      <th>1</th>\n",
       "      <td>8.02</td>\n",
       "      <td>x</td>\n",
       "      <td>d</td>\n",
       "      <td>n</td>\n",
       "      <td>t</td>\n",
       "      <td>p</td>\n",
       "      <td>NaN</td>\n",
       "      <td>y</td>\n",
       "      <td>7.03</td>\n",
       "      <td>15.75</td>\n",
       "      <td>NaN</td>\n",
       "      <td>NaN</td>\n",
       "      <td>y</td>\n",
       "      <td>NaN</td>\n",
       "      <td>NaN</td>\n",
       "      <td>f</td>\n",
       "      <td>f</td>\n",
       "      <td>NaN</td>\n",
       "      <td>d</td>\n",
       "      <td>u</td>\n",
       "    </tr>\n",
       "    <tr>\n",
       "      <th>2</th>\n",
       "      <td>12.99</td>\n",
       "      <td>f</td>\n",
       "      <td>NaN</td>\n",
       "      <td>n</td>\n",
       "      <td>t</td>\n",
       "      <td>NaN</td>\n",
       "      <td>NaN</td>\n",
       "      <td>w</td>\n",
       "      <td>12.03</td>\n",
       "      <td>18.19</td>\n",
       "      <td>b</td>\n",
       "      <td>NaN</td>\n",
       "      <td>w</td>\n",
       "      <td>u</td>\n",
       "      <td>w</td>\n",
       "      <td>t</td>\n",
       "      <td>g</td>\n",
       "      <td>NaN</td>\n",
       "      <td>d</td>\n",
       "      <td>u</td>\n",
       "    </tr>\n",
       "    <tr>\n",
       "      <th>3</th>\n",
       "      <td>9.00</td>\n",
       "      <td>x</td>\n",
       "      <td>e</td>\n",
       "      <td>o</td>\n",
       "      <td>f</td>\n",
       "      <td>a</td>\n",
       "      <td>NaN</td>\n",
       "      <td>o</td>\n",
       "      <td>10.32</td>\n",
       "      <td>17.98</td>\n",
       "      <td>r</td>\n",
       "      <td>NaN</td>\n",
       "      <td>o</td>\n",
       "      <td>NaN</td>\n",
       "      <td>NaN</td>\n",
       "      <td>t</td>\n",
       "      <td>r</td>\n",
       "      <td>n</td>\n",
       "      <td>d</td>\n",
       "      <td>a</td>\n",
       "    </tr>\n",
       "    <tr>\n",
       "      <th>4</th>\n",
       "      <td>11.46</td>\n",
       "      <td>f</td>\n",
       "      <td>NaN</td>\n",
       "      <td>l</td>\n",
       "      <td>f</td>\n",
       "      <td>s</td>\n",
       "      <td>c</td>\n",
       "      <td>u</td>\n",
       "      <td>8.45</td>\n",
       "      <td>21.54</td>\n",
       "      <td>NaN</td>\n",
       "      <td>NaN</td>\n",
       "      <td>u</td>\n",
       "      <td>NaN</td>\n",
       "      <td>NaN</td>\n",
       "      <td>f</td>\n",
       "      <td>f</td>\n",
       "      <td>NaN</td>\n",
       "      <td>l</td>\n",
       "      <td>w</td>\n",
       "    </tr>\n",
       "  </tbody>\n",
       "</table>\n",
       "</div>"
      ],
      "text/plain": [
       "   cap-diameter cap-shape cap-surface cap-color does-bruise-or-bleed  \\\n",
       "0          6.52         x           i         n                    f   \n",
       "1          8.02         x           d         n                    t   \n",
       "2         12.99         f         NaN         n                    t   \n",
       "3          9.00         x           e         o                    f   \n",
       "4         11.46         f         NaN         l                    f   \n",
       "\n",
       "  gill-attachment gill-spacing gill-color  stem-height  stem-width stem-root  \\\n",
       "0               e            c          p         4.43       12.75       NaN   \n",
       "1               p          NaN          y         7.03       15.75       NaN   \n",
       "2             NaN          NaN          w        12.03       18.19         b   \n",
       "3               a          NaN          o        10.32       17.98         r   \n",
       "4               s            c          u         8.45       21.54       NaN   \n",
       "\n",
       "  stem-surface stem-color veil-type veil-color has-ring ring-type  \\\n",
       "0          NaN          w       NaN        NaN        t         l   \n",
       "1          NaN          y       NaN        NaN        f         f   \n",
       "2          NaN          w         u          w        t         g   \n",
       "3          NaN          o       NaN        NaN        t         r   \n",
       "4          NaN          u       NaN        NaN        f         f   \n",
       "\n",
       "  spore-print-color habitat season  \n",
       "0               NaN       w      u  \n",
       "1               NaN       d      u  \n",
       "2               NaN       d      u  \n",
       "3                 n       d      a  \n",
       "4               NaN       l      w  "
      ]
     },
     "execution_count": 4,
     "metadata": {},
     "output_type": "execute_result"
    }
   ],
   "source": [
    "X_train.head()"
   ]
  },
  {
   "cell_type": "code",
   "execution_count": 7,
   "id": "68dad4c6",
   "metadata": {},
   "outputs": [
    {
     "name": "stdout",
     "output_type": "stream",
     "text": [
      "<class 'pandas.core.frame.DataFrame'>\n",
      "RangeIndex: 36641 entries, 0 to 36640\n",
      "Data columns (total 20 columns):\n",
      " #   Column                Non-Null Count  Dtype  \n",
      "---  ------                --------------  -----  \n",
      " 0   cap-diameter          36641 non-null  float64\n",
      " 1   cap-shape             36641 non-null  object \n",
      " 2   cap-surface           28225 non-null  object \n",
      " 3   cap-color             36641 non-null  object \n",
      " 4   does-bruise-or-bleed  36641 non-null  object \n",
      " 5   gill-attachment       30784 non-null  object \n",
      " 6   gill-spacing          21558 non-null  object \n",
      " 7   gill-color            36641 non-null  object \n",
      " 8   stem-height           36641 non-null  float64\n",
      " 9   stem-width            36641 non-null  float64\n",
      " 10  stem-root             5642 non-null   object \n",
      " 11  stem-surface          13759 non-null  object \n",
      " 12  stem-color            36641 non-null  object \n",
      " 13  veil-type             1937 non-null   object \n",
      " 14  veil-color            4501 non-null   object \n",
      " 15  has-ring              36641 non-null  object \n",
      " 16  ring-type             35194 non-null  object \n",
      " 17  spore-print-color     3844 non-null   object \n",
      " 18  habitat               36641 non-null  object \n",
      " 19  season                36641 non-null  object \n",
      "dtypes: float64(3), object(17)\n",
      "memory usage: 5.6+ MB\n"
     ]
    }
   ],
   "source": [
    "# now we want to explore the data \n",
    "X_train.info()"
   ]
  },
  {
   "cell_type": "markdown",
   "id": "538a0600",
   "metadata": {},
   "source": [
    "to start our investigation we split the data into numrical and categorical features and start doing (Univariate, Bivariate, Multivariate) analysis on the data "
   ]
  },
  {
   "cell_type": "code",
   "execution_count": 8,
   "id": "7d6c28f3",
   "metadata": {},
   "outputs": [
    {
     "data": {
      "text/plain": [
       "((36641, 17), (36641, 3))"
      ]
     },
     "execution_count": 8,
     "metadata": {},
     "output_type": "execute_result"
    }
   ],
   "source": [
    "# split the data into categorical and numerical features\n",
    "categorical_features = X_train.select_dtypes(include=['object'])\n",
    "numerical_features = X_train.select_dtypes(include=['int64', 'float64'])\n",
    "categorical_features.shape, numerical_features.shape"
   ]
  },
  {
   "cell_type": "code",
   "execution_count": null,
   "id": "4070e517",
   "metadata": {},
   "outputs": [],
   "source": []
  }
 ],
 "metadata": {
  "kernelspec": {
   "display_name": "mashrom-project",
   "language": "python",
   "name": "python3"
  },
  "language_info": {
   "codemirror_mode": {
    "name": "ipython",
    "version": 3
   },
   "file_extension": ".py",
   "mimetype": "text/x-python",
   "name": "python",
   "nbconvert_exporter": "python",
   "pygments_lexer": "ipython3",
   "version": "3.12.3"
  }
 },
 "nbformat": 4,
 "nbformat_minor": 5
}
