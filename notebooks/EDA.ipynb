{
 "cells": [
  {
   "cell_type": "code",
   "execution_count": 1,
   "id": "554c88ee",
   "metadata": {},
   "outputs": [],
   "source": [
    "import pandas as pd \n",
    "import numpy as np\n",
    "import matplotlib.pyplot as plt\n",
    "import seaborn as sns\n",
    "import os\n"
   ]
  },
  {
   "cell_type": "code",
   "execution_count": 5,
   "id": "42f2e70d",
   "metadata": {},
   "outputs": [
    {
     "data": {
      "text/plain": [
       "((60903, 10), (60903, 3), (60903, 1))"
      ]
     },
     "execution_count": 5,
     "metadata": {},
     "output_type": "execute_result"
    }
   ],
   "source": [
    "X_cat = pd.read_csv('../data/cleaned_categorical_features(1).csv')\n",
    "X_num = pd.read_csv('../data/cleaned_numerical_features(1).csv')\n",
    "y = pd.read_csv(\"../data/secondary_mushroom_targets(1).csv\")\n",
    "X_cat.shape, X_num.shape, y.shape"
   ]
  },
  {
   "cell_type": "code",
   "execution_count": null,
   "id": "bb38e3c2",
   "metadata": {},
   "outputs": [],
   "source": []
  }
 ],
 "metadata": {
  "kernelspec": {
   "display_name": "Python 3",
   "language": "python",
   "name": "python3"
  },
  "language_info": {
   "codemirror_mode": {
    "name": "ipython",
    "version": 3
   },
   "file_extension": ".py",
   "mimetype": "text/x-python",
   "name": "python",
   "nbconvert_exporter": "python",
   "pygments_lexer": "ipython3",
   "version": "3.12.3"
  }
 },
 "nbformat": 4,
 "nbformat_minor": 5
}
